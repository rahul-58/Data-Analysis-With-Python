{
  "cells": [
    {
      "cell_type": "markdown",
      "metadata": {
        "id": "view-in-github",
        "colab_type": "text"
      },
      "source": [
        "<a href=\"https://colab.research.google.com/github/rahul-58/Data-Analysis-With-Python/blob/main/Exercises_2.ipynb\" target=\"_parent\"><img src=\"https://colab.research.google.com/assets/colab-badge.svg\" alt=\"Open In Colab\"/></a>"
      ]
    },
    {
      "cell_type": "markdown",
      "metadata": {
        "id": "UqmUBlvxeSHg"
      },
      "source": [
        "![rmotr](https://user-images.githubusercontent.com/7065401/52071918-bda15380-2562-11e9-828c-7f95297e4a82.png)\n",
        "<hr style=\"margin-bottom: 40px;\">\n",
        "\n",
        "# Exercises\n",
        "## The Sakila Database\n",
        "\n",
        "One of the best example databases out there is the <a href=\"https://dev.mysql.com/doc/sakila/en/\">Sakila Database</a>, which was originally created by MySQL and has been open sourced under the terms of the BSD License.\n",
        "\n",
        "The Sakila database is a nicely normalised schema modelling a DVD rental store, featuring things like films, actors, film-actor relationships, and a central inventory table that connects films, stores, and rentals.\n",
        "\n",
        "<img width=\"1200px\" src=\"https://user-images.githubusercontent.com/7065401/58504872-fa243b00-8161-11e9-85ed-4b7d8d7ce9f7.png\" />"
      ]
    },
    {
      "cell_type": "markdown",
      "metadata": {
        "id": "_sZMPNtSeSHi"
      },
      "source": [
        "![purple-divider](https://user-images.githubusercontent.com/7065401/52071927-c1cd7100-2562-11e9-908a-dde91ba14e59.png)\n",
        "\n",
        "## Hands on!"
      ]
    },
    {
      "cell_type": "code",
      "execution_count": 1,
      "metadata": {
        "id": "UQzQYSPzeSHj"
      },
      "outputs": [],
      "source": [
        "import numpy as np\n",
        "import pandas as pd\n",
        "import matplotlib.pyplot as plt\n",
        "import sqlite3\n",
        "\n",
        "%matplotlib inline"
      ]
    },
    {
      "cell_type": "code",
      "execution_count": 3,
      "metadata": {
        "colab": {
          "base_uri": "https://localhost:8080/",
          "height": 211
        },
        "id": "BBv0u2OaeSHj",
        "outputId": "de650380-cbd2-4bee-a0f9-bd4ddf766014"
      },
      "outputs": [
        {
          "output_type": "error",
          "ename": "OperationalError",
          "evalue": "unable to open database file",
          "traceback": [
            "\u001b[0;31m---------------------------------------------------------------------------\u001b[0m",
            "\u001b[0;31mOperationalError\u001b[0m                          Traceback (most recent call last)",
            "\u001b[0;32m<ipython-input-3-e7bd0fe9801d>\u001b[0m in \u001b[0;36m<cell line: 1>\u001b[0;34m()\u001b[0m\n\u001b[0;32m----> 1\u001b[0;31m \u001b[0mconn\u001b[0m \u001b[0;34m=\u001b[0m \u001b[0msqlite3\u001b[0m\u001b[0;34m.\u001b[0m\u001b[0mconnect\u001b[0m\u001b[0;34m(\u001b[0m\u001b[0;34m'data/sakila.db'\u001b[0m\u001b[0;34m)\u001b[0m\u001b[0;34m\u001b[0m\u001b[0;34m\u001b[0m\u001b[0m\n\u001b[0m\u001b[1;32m      2\u001b[0m \u001b[0;34m\u001b[0m\u001b[0m\n\u001b[1;32m      3\u001b[0m df = pd.read_sql('''\n\u001b[1;32m      4\u001b[0m     \u001b[0mSELECT\u001b[0m\u001b[0;34m\u001b[0m\u001b[0;34m\u001b[0m\u001b[0m\n\u001b[1;32m      5\u001b[0m         \u001b[0mrental\u001b[0m\u001b[0;34m.\u001b[0m\u001b[0mrental_id\u001b[0m\u001b[0;34m,\u001b[0m \u001b[0mrental\u001b[0m\u001b[0;34m.\u001b[0m\u001b[0mrental_date\u001b[0m\u001b[0;34m,\u001b[0m \u001b[0mrental\u001b[0m\u001b[0;34m.\u001b[0m\u001b[0mreturn_date\u001b[0m\u001b[0;34m,\u001b[0m\u001b[0;34m\u001b[0m\u001b[0;34m\u001b[0m\u001b[0m\n",
            "\u001b[0;31mOperationalError\u001b[0m: unable to open database file"
          ]
        }
      ],
      "source": [
        "conn = sqlite3.connect('data/sakila.db')\n",
        "\n",
        "df = pd.read_sql('''\n",
        "    SELECT\n",
        "        rental.rental_id, rental.rental_date, rental.return_date,\n",
        "        customer.last_name AS customer_lastname,\n",
        "        store.store_id,\n",
        "        city.city AS rental_store_city,\n",
        "        film.title AS film_title, film.rental_duration AS film_rental_duration,\n",
        "        film.rental_rate AS film_rental_rate, film.replacement_cost AS film_replacement_cost,\n",
        "        film.rating AS film_rating\n",
        "    FROM rental\n",
        "    INNER JOIN customer ON rental.customer_id == customer.customer_id\n",
        "    INNER JOIN inventory ON rental.inventory_id == inventory.inventory_id\n",
        "    INNER JOIN store ON inventory.store_id == store.store_id\n",
        "    INNER JOIN address ON store.address_id == address.address_id\n",
        "    INNER JOIN city ON address.city_id == city.city_id\n",
        "    INNER JOIN film ON inventory.film_id == film.film_id\n",
        "    ;\n",
        "''', conn, index_col='rental_id', parse_dates=['rental_date', 'return_date'])"
      ]
    },
    {
      "cell_type": "code",
      "execution_count": null,
      "metadata": {
        "id": "eHOQp6TGeSHk"
      },
      "outputs": [],
      "source": [
        "df.head()"
      ]
    },
    {
      "cell_type": "markdown",
      "metadata": {
        "id": "-r_6lPWleSHk"
      },
      "source": [
        "![green-divider](https://user-images.githubusercontent.com/7065401/52071924-c003ad80-2562-11e9-8297-1c6595f8a7ff.png)\n",
        "\n",
        "### What's the mean of `film_rental_duration`?"
      ]
    },
    {
      "cell_type": "code",
      "execution_count": null,
      "metadata": {
        "id": "I-ZIULHHeSHl"
      },
      "outputs": [],
      "source": [
        "# your code goes here\n",
        "df['film_rental_duration'].mean()"
      ]
    },
    {
      "cell_type": "code",
      "execution_count": null,
      "metadata": {
        "cell_type": "solution",
        "id": "bTzwafdgeSHl"
      },
      "outputs": [],
      "source": [
        "df['film_rental_duration'].mean()"
      ]
    },
    {
      "cell_type": "markdown",
      "metadata": {
        "id": "0XsaIrhOeSHm"
      },
      "source": [
        "![green-divider](https://user-images.githubusercontent.com/7065401/52071924-c003ad80-2562-11e9-8297-1c6595f8a7ff.png)\n",
        "\n",
        "### What's the most common rental duration?\n",
        "\n",
        "Show a <b>bar plot</b> with all the durations."
      ]
    },
    {
      "cell_type": "code",
      "execution_count": null,
      "metadata": {
        "id": "ZWUBZ3OBeSHm"
      },
      "outputs": [],
      "source": [
        "# your code goes here\n",
        "df['film_rental_duration'].value_counts().plot(kind='bar', figsize=(14,6))"
      ]
    },
    {
      "cell_type": "code",
      "execution_count": null,
      "metadata": {
        "cell_type": "solution",
        "id": "pj925v31eSHm"
      },
      "outputs": [],
      "source": [
        "df['film_rental_duration'].value_counts().plot(kind='bar', figsize=(14,6))"
      ]
    },
    {
      "cell_type": "markdown",
      "metadata": {
        "id": "pJ9JpL1ieSHn"
      },
      "source": [
        "![green-divider](https://user-images.githubusercontent.com/7065401/52071924-c003ad80-2562-11e9-8297-1c6595f8a7ff.png)\n",
        "\n",
        "### What is the most common rental rate?\n",
        "\n",
        "- Show a <b>pie plot</b> with all possible rental rates.\n",
        "- Show a <b>bar plot</b> with all possible rental rates.\n",
        "- Which plot you think fits the best in this case? Why?"
      ]
    },
    {
      "cell_type": "code",
      "execution_count": null,
      "metadata": {
        "id": "A4Wu0AtEeSHn"
      },
      "outputs": [],
      "source": [
        "# your code goes here\n",
        "df['film_rental_rate'].value_counts().plot(kind='pie', figsize=(6,6))"
      ]
    },
    {
      "cell_type": "code",
      "execution_count": null,
      "metadata": {
        "cell_type": "solution",
        "id": "T7B9IkFEeSHn"
      },
      "outputs": [],
      "source": [
        "df['film_rental_rate'].value_counts().plot(kind='pie', figsize=(6,6))"
      ]
    },
    {
      "cell_type": "code",
      "execution_count": null,
      "metadata": {
        "id": "wNzKqKGDeSHn"
      },
      "outputs": [],
      "source": [
        "# your code goes here\n",
        "df['film_rental_rate'].value_counts().plot(kind='bar', figsize=(14,6))"
      ]
    },
    {
      "cell_type": "code",
      "execution_count": null,
      "metadata": {
        "cell_type": "solution",
        "id": "mBjDf0ETeSHn"
      },
      "outputs": [],
      "source": [
        "df['film_rental_rate'].value_counts().plot(kind='bar', figsize=(14,6))"
      ]
    },
    {
      "cell_type": "markdown",
      "metadata": {
        "id": "V29MYZ8beSHo"
      },
      "source": [
        "![green-divider](https://user-images.githubusercontent.com/7065401/52071924-c003ad80-2562-11e9-8297-1c6595f8a7ff.png)\n",
        "\n",
        "### How is the replacement cost distributed?\n",
        "\n",
        "- Show a <b>box plot</b> of the replacement costs.\n",
        "- Show a <b>density plot</b> of the replacement costs.\n",
        "- Add a red line on the <b>mean</b>.\n",
        "- Add a green line on the median <b>median</b>."
      ]
    },
    {
      "cell_type": "code",
      "execution_count": null,
      "metadata": {
        "id": "oqb0la4BeSHo"
      },
      "outputs": [],
      "source": [
        "# your code goes here\n",
        "df['film_replacement_cost'].plot(kind='box', vert=False,figsize=(14,6))"
      ]
    },
    {
      "cell_type": "code",
      "execution_count": null,
      "metadata": {
        "cell_type": "solution",
        "id": "sEbwx8NTeSHo"
      },
      "outputs": [],
      "source": [
        "df['film_replacement_cost'].plot(kind='box', vert=False, figsize=(14,6))"
      ]
    },
    {
      "cell_type": "code",
      "execution_count": null,
      "metadata": {
        "id": "ehRKoYKZeSHo"
      },
      "outputs": [],
      "source": [
        "# your code goes here\n",
        "ax = df['film_replacement_cost'].plot(kind='density', figsize=(14,6))\n",
        "ax.axvline(df['film_replacement_cost'].mean(), color='red')\n",
        "ax.axvline(df['film_replacement_cost'].median(), color='green')"
      ]
    },
    {
      "cell_type": "code",
      "execution_count": null,
      "metadata": {
        "cell_type": "solution",
        "id": "D1ukfmIJeSHo"
      },
      "outputs": [],
      "source": [
        "ax = df['film_replacement_cost'].plot(kind='density', figsize=(14,6))\n",
        "ax.axvline(df['film_replacement_cost'].mean(), color='red')\n",
        "ax.axvline(df['film_replacement_cost'].median(), color='green')"
      ]
    },
    {
      "cell_type": "markdown",
      "metadata": {
        "id": "ioA4_5zseSHo"
      },
      "source": [
        "![green-divider](https://user-images.githubusercontent.com/7065401/52071924-c003ad80-2562-11e9-8297-1c6595f8a7ff.png)\n",
        "\n",
        "### How many films of each rating do we have?\n",
        "\n",
        "- Show the raw count of each film rating.\n",
        "- Show a <b>bar plot</b> with all possible film ratings."
      ]
    },
    {
      "cell_type": "code",
      "execution_count": null,
      "metadata": {
        "id": "HYNMvCmceSHo"
      },
      "outputs": [],
      "source": [
        "# your code goes here\n",
        "df['film_rating'].value_counts()"
      ]
    },
    {
      "cell_type": "code",
      "execution_count": null,
      "metadata": {
        "cell_type": "solution",
        "id": "UYGe1kuOeSHo"
      },
      "outputs": [],
      "source": [
        "df['film_rating'].value_counts()"
      ]
    },
    {
      "cell_type": "code",
      "execution_count": null,
      "metadata": {
        "id": "E_E-oNzIeSHp"
      },
      "outputs": [],
      "source": [
        "# your code goes here\n",
        "df['film_rating'].value_counts().plot(kind='bar', figsize=(14,6))"
      ]
    },
    {
      "cell_type": "code",
      "execution_count": null,
      "metadata": {
        "cell_type": "solution",
        "id": "7iwepU-MeSHp"
      },
      "outputs": [],
      "source": [
        "df['film_rating'].value_counts().plot(kind='bar', figsize=(14,6))"
      ]
    },
    {
      "cell_type": "markdown",
      "metadata": {
        "id": "bBHOb2vleSHp"
      },
      "source": [
        "![green-divider](https://user-images.githubusercontent.com/7065401/52071924-c003ad80-2562-11e9-8297-1c6595f8a7ff.png)\n",
        "\n",
        "### Does the film replacement cost vary depending on film rating?\n",
        "\n",
        "In the United States, film classification is a voluntary process with the ratings issued by the Motion Picture Association of America (MPAA) via the Classification and Rating Administration (CARA).\n",
        "\n",
        "- G (General Audiences): All Ages are Admitted.\n",
        "- PG (Parental Guidance Suggested): Some Material May Not Be Suitable for Children.\n",
        "- PG-13 (Parents Strongly Cautioned): Some Material May Be Inappropriate for Children Under 13.\n",
        "- R (Restricted): Under 17 Requires Accompanying Parent or Adult Guardian.\n",
        "- NC-17 (Adults Only): No One 17 and Under Admitted.\n",
        "\n",
        "Show a <b>grouped box plot</b> per film rating with the film replacement costs."
      ]
    },
    {
      "cell_type": "code",
      "execution_count": null,
      "metadata": {
        "id": "5Klbf53leSHp"
      },
      "outputs": [],
      "source": [
        "# your code goes here\n",
        "df[['film_replacement_cost', 'film_rating']].boxplot(by='film_rating', figsize=(14,6))"
      ]
    },
    {
      "cell_type": "code",
      "execution_count": null,
      "metadata": {
        "cell_type": "solution",
        "id": "uTKn_qb6eSHp"
      },
      "outputs": [],
      "source": [
        "df[['film_replacement_cost', 'film_rating']].boxplot(by='film_rating', figsize=(14,6))"
      ]
    },
    {
      "cell_type": "markdown",
      "metadata": {
        "id": "JKoWmnUBeSHp"
      },
      "source": [
        "![green-divider](https://user-images.githubusercontent.com/7065401/52071924-c003ad80-2562-11e9-8297-1c6595f8a7ff.png)\n",
        "\n",
        "### Add and calculate a new `rental_days` column\n",
        "\n",
        "This numeric column should have the count of days between `rental_date` and `return_date`."
      ]
    },
    {
      "cell_type": "code",
      "execution_count": null,
      "metadata": {
        "id": "Lw_C-Fc9eSHp"
      },
      "outputs": [],
      "source": [
        "# your code goes here\n",
        "df['rental_days'] = df[['rental_date', 'return_date']].apply(lambda x: (x[1] - x[0]).days, axis=1)\n",
        "df['rental_days'].head()"
      ]
    },
    {
      "cell_type": "code",
      "execution_count": null,
      "metadata": {
        "cell_type": "solution",
        "id": "SfQN0Bq_eSHp"
      },
      "outputs": [],
      "source": [
        "df['rental_days'] = df[['rental_date', 'return_date']].apply(lambda x: (x[1] - x[0]).days, axis=1)\n",
        "df['rental_days'].head()"
      ]
    },
    {
      "cell_type": "markdown",
      "metadata": {
        "id": "odqDV4KveSHp"
      },
      "source": [
        "![green-divider](https://user-images.githubusercontent.com/7065401/52071924-c003ad80-2562-11e9-8297-1c6595f8a7ff.png)\n",
        "\n",
        "### Analyze the distribution of `rental_days`\n",
        "\n",
        "- Calculate the mean of `rental_days`.\n",
        "- Show a <b>density (KDE)</b> of `rental_days`."
      ]
    },
    {
      "cell_type": "code",
      "execution_count": null,
      "metadata": {
        "id": "4LmB_YYUeSHq"
      },
      "outputs": [],
      "source": [
        "# your code goes here\n",
        "df['rental_days'].mean()"
      ]
    },
    {
      "cell_type": "code",
      "execution_count": null,
      "metadata": {
        "cell_type": "solution",
        "id": "8T4-53jMeSHq"
      },
      "outputs": [],
      "source": [
        "df['rental_days'].mean()"
      ]
    },
    {
      "cell_type": "code",
      "execution_count": null,
      "metadata": {
        "id": "xpmz7_HceSHq"
      },
      "outputs": [],
      "source": [
        "# your code goes here\n",
        "ax = df['rental_days'].plot(kind='density', figsize=(14,6))\n",
        "ax.axvline(df['rental_days'].mean(), color='red')"
      ]
    },
    {
      "cell_type": "code",
      "execution_count": null,
      "metadata": {
        "cell_type": "solution",
        "id": "APf5uCp0eSHq"
      },
      "outputs": [],
      "source": [
        "ax = df['rental_days'].plot(kind='density', figsize=(14,6))\n",
        "ax.axvline(df['rental_days'].mean(), color='red')"
      ]
    },
    {
      "cell_type": "markdown",
      "metadata": {
        "id": "JL6DOEtweSHq"
      },
      "source": [
        "![green-divider](https://user-images.githubusercontent.com/7065401/52071924-c003ad80-2562-11e9-8297-1c6595f8a7ff.png)\n",
        "\n",
        "### Add and calculate a new `film_daily_rental_rate` column\n",
        "\n",
        "This value should be the division of `film_rental_rate` by `film_rental_duration`."
      ]
    },
    {
      "cell_type": "code",
      "execution_count": null,
      "metadata": {
        "id": "LNOmOn_TeSHq"
      },
      "outputs": [],
      "source": [
        "# your code goes here\n",
        "df['film_daily_rental_rate'] = df[['film_rental_rate', 'film_rental_duration']].apply(lambda x: x[0] / x[1], axis=1)\n",
        "df['film_daily_rental_rate'].head"
      ]
    },
    {
      "cell_type": "code",
      "execution_count": null,
      "metadata": {
        "cell_type": "solution",
        "id": "dXPq8T5ZeSHw"
      },
      "outputs": [],
      "source": [
        "df['film_daily_rental_rate'] = df['film_rental_rate'] / df['film_rental_duration']\n",
        "\n",
        "df['film_daily_rental_rate'].head()"
      ]
    },
    {
      "cell_type": "markdown",
      "metadata": {
        "id": "XpkNBflVeSHw"
      },
      "source": [
        "![green-divider](https://user-images.githubusercontent.com/7065401/52071924-c003ad80-2562-11e9-8297-1c6595f8a7ff.png)\n",
        "\n",
        "### Analyze the distribution of `film_daily_rental_rate`\n",
        "\n",
        "- Calculate the mean of `film_daily_rental_rate`.\n",
        "- Show a <b>density (KDE)</b> of `film_daily_rental_rate`."
      ]
    },
    {
      "cell_type": "code",
      "execution_count": null,
      "metadata": {
        "id": "tIrQDtaheSHw"
      },
      "outputs": [],
      "source": [
        "# your code goes here\n",
        "df['film_daily_rental_rate'].mean()"
      ]
    },
    {
      "cell_type": "code",
      "execution_count": null,
      "metadata": {
        "cell_type": "solution",
        "id": "ZZ7Wgo9NeSHw"
      },
      "outputs": [],
      "source": [
        "df['film_daily_rental_rate'].mean()"
      ]
    },
    {
      "cell_type": "code",
      "execution_count": null,
      "metadata": {
        "id": "lIBNCNj6eSHw"
      },
      "outputs": [],
      "source": [
        "# your code goes here\n",
        "ax = df['film_daily_rental_rate'].plot(kind='density', figsize=(14,6))\n",
        "ax.axvline(df['film_daily_rental_rate'].mean(), color='red')"
      ]
    },
    {
      "cell_type": "code",
      "execution_count": null,
      "metadata": {
        "cell_type": "solution",
        "id": "1RtGSt8veSHx"
      },
      "outputs": [],
      "source": [
        "ax = df['film_daily_rental_rate'].plot(kind='density', figsize=(14,6))\n",
        "ax.axvline(df['film_daily_rental_rate'].mean(), color='red')"
      ]
    },
    {
      "cell_type": "markdown",
      "metadata": {
        "id": "SoIrzbc0eSHx"
      },
      "source": [
        "![green-divider](https://user-images.githubusercontent.com/7065401/52071924-c003ad80-2562-11e9-8297-1c6595f8a7ff.png)\n",
        "\n",
        "### List 10 films with the lowest daily rental rate"
      ]
    },
    {
      "cell_type": "code",
      "execution_count": null,
      "metadata": {
        "id": "kK4anEUyeSHx"
      },
      "outputs": [],
      "source": [
        "# your code goes here\n",
        "df.loc[df['film_daily_rental_rate'] == df['film_daily_rental_rate'].min()].head(10)"
      ]
    },
    {
      "cell_type": "code",
      "execution_count": null,
      "metadata": {
        "cell_type": "solution",
        "id": "AFiqt077eSHx"
      },
      "outputs": [],
      "source": [
        "df.loc[df['film_daily_rental_rate'] == df['film_daily_rental_rate'].min()].head(10)"
      ]
    },
    {
      "cell_type": "markdown",
      "metadata": {
        "id": "Gzza0TBXeSHx"
      },
      "source": [
        "![green-divider](https://user-images.githubusercontent.com/7065401/52071924-c003ad80-2562-11e9-8297-1c6595f8a7ff.png)\n",
        "\n",
        "### List 10 films with the highest daily rental rate"
      ]
    },
    {
      "cell_type": "code",
      "execution_count": null,
      "metadata": {
        "id": "Utq68sg_eSHx"
      },
      "outputs": [],
      "source": [
        "# your code goes here\n",
        "df.loc[df['film_daily_rental_rate'] == df['film_daily_rental_rate'].max()].head(10)"
      ]
    },
    {
      "cell_type": "code",
      "execution_count": null,
      "metadata": {
        "cell_type": "solution",
        "id": "dwdhAstDeSHx"
      },
      "outputs": [],
      "source": [
        "df.loc[df['film_daily_rental_rate'] == df['film_daily_rental_rate'].max()].head(10)"
      ]
    },
    {
      "cell_type": "markdown",
      "metadata": {
        "id": "Mw-2zLRgeSHx"
      },
      "source": [
        "![green-divider](https://user-images.githubusercontent.com/7065401/52071924-c003ad80-2562-11e9-8297-1c6595f8a7ff.png)\n",
        "\n",
        "### How many rentals were made in Lethbridge city?"
      ]
    },
    {
      "cell_type": "code",
      "execution_count": null,
      "metadata": {
        "id": "DQPRY0dAeSHx"
      },
      "outputs": [],
      "source": [
        "# your code goes here\n",
        "df.loc[df['rental_store_city'] == 'Lethbridge'].shape[0]"
      ]
    },
    {
      "cell_type": "code",
      "execution_count": null,
      "metadata": {
        "cell_type": "solution",
        "id": "8n73xmjGeSHy"
      },
      "outputs": [],
      "source": [
        "df.loc[df['rental_store_city'] == 'Lethbridge'].shape[0]"
      ]
    },
    {
      "cell_type": "markdown",
      "metadata": {
        "id": "0SccNGQQeSHy"
      },
      "source": [
        "![green-divider](https://user-images.githubusercontent.com/7065401/52071924-c003ad80-2562-11e9-8297-1c6595f8a7ff.png)\n",
        "\n",
        "### How many rentals of each film rating were made in Lethbridge city?\n",
        "\n",
        "Show a <b>bar plot</b> with each film rating count."
      ]
    },
    {
      "cell_type": "code",
      "execution_count": null,
      "metadata": {
        "id": "blFPbvoVeSHy"
      },
      "outputs": [],
      "source": [
        "# your code goes here\n",
        "df.loc[df['rental_store_city'] == 'Lethbridge', 'film_rating'].value_counts()"
      ]
    },
    {
      "cell_type": "code",
      "execution_count": null,
      "metadata": {
        "cell_type": "solution",
        "id": "g_pSc_TXeSHy"
      },
      "outputs": [],
      "source": [
        "df.loc[df['rental_store_city'] == 'Lethbridge', 'film_rating'].value_counts()"
      ]
    },
    {
      "cell_type": "code",
      "execution_count": null,
      "metadata": {
        "cell_type": "solution",
        "id": "715x1WaAeSHy"
      },
      "outputs": [],
      "source": [
        "df.loc[df['rental_store_city'] == 'Lethbridge', 'film_rating'].value_counts().plot(kind='bar', figsize=(14,6))"
      ]
    },
    {
      "cell_type": "markdown",
      "metadata": {
        "id": "C2NjZcrpeSHy"
      },
      "source": [
        "![green-divider](https://user-images.githubusercontent.com/7065401/52071924-c003ad80-2562-11e9-8297-1c6595f8a7ff.png)\n",
        "\n",
        "### How many rentals were made in Woodridge city with rental duration higher than 5 days?"
      ]
    },
    {
      "cell_type": "code",
      "execution_count": null,
      "metadata": {
        "id": "0FdFCQhfeSHz"
      },
      "outputs": [],
      "source": [
        "# your code goes here\n",
        "df.loc[(df['rental_store_city'] == 'Woodridge') & (df['film_rental_duration'] > 5)].shape[0]"
      ]
    },
    {
      "cell_type": "code",
      "execution_count": null,
      "metadata": {
        "cell_type": "solution",
        "id": "V7tXW4dIeSHz"
      },
      "outputs": [],
      "source": [
        "df.loc[(df['rental_store_city'] == 'Woodridge') & (df['film_rental_duration'] > 5)].shape[0]"
      ]
    },
    {
      "cell_type": "markdown",
      "metadata": {
        "id": "nNGgFzGveSHz"
      },
      "source": [
        "![green-divider](https://user-images.githubusercontent.com/7065401/52071924-c003ad80-2562-11e9-8297-1c6595f8a7ff.png)\n",
        "\n",
        "### How many rentals were made at the store with id 2 or with replacement cost lower than 10.99 USD?"
      ]
    },
    {
      "cell_type": "code",
      "execution_count": null,
      "metadata": {
        "id": "Jo0yA3xkeSHz"
      },
      "outputs": [],
      "source": [
        "# your code goes here\n",
        "df.loc[(df['store_id'] == 2) | (df['film_replacement_cost'] < 10.99)].shape[0]"
      ]
    },
    {
      "cell_type": "code",
      "execution_count": null,
      "metadata": {
        "cell_type": "solution",
        "id": "P3ghgWyKeSHz"
      },
      "outputs": [],
      "source": [
        "df.loc[(df['store_id'] == 2) | (df['film_replacement_cost'] < 10.99)].shape[0]"
      ]
    },
    {
      "cell_type": "markdown",
      "metadata": {
        "id": "YQ9XViUpeSHz"
      },
      "source": [
        "![purple-divider](https://user-images.githubusercontent.com/7065401/52071927-c1cd7100-2562-11e9-908a-dde91ba14e59.png)"
      ]
    }
  ],
  "metadata": {
    "kernelspec": {
      "display_name": "Python 3",
      "language": "python",
      "name": "python3"
    },
    "language_info": {
      "codemirror_mode": {
        "name": "ipython",
        "version": 3
      },
      "file_extension": ".py",
      "mimetype": "text/x-python",
      "name": "python",
      "nbconvert_exporter": "python",
      "pygments_lexer": "ipython3",
      "version": "3.6.8"
    },
    "colab": {
      "provenance": [],
      "include_colab_link": true
    }
  },
  "nbformat": 4,
  "nbformat_minor": 0
}
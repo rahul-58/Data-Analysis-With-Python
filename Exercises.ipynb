{
  "cells": [
    {
      "cell_type": "markdown",
      "metadata": {
        "id": "view-in-github",
        "colab_type": "text"
      },
      "source": [
        "<a href=\"https://colab.research.google.com/github/rahul-58/Data-Analysis-With-Python/blob/main/Exercises.ipynb\" target=\"_parent\"><img src=\"https://colab.research.google.com/assets/colab-badge.svg\" alt=\"Open In Colab\"/></a>"
      ]
    },
    {
      "cell_type": "markdown",
      "metadata": {
        "id": "vOlfeZBYC4Tz"
      },
      "source": [
        "![rmotr](https://user-images.githubusercontent.com/7065401/52071918-bda15380-2562-11e9-828c-7f95297e4a82.png)\n",
        "<hr style=\"margin-bottom: 40px;\">\n",
        "\n",
        "# Python in under 10 minutes - Exercises\n"
      ]
    },
    {
      "cell_type": "markdown",
      "metadata": {
        "id": "MC-fhlY5C4T0"
      },
      "source": [
        "![green-divider](https://user-images.githubusercontent.com/7065401/52071924-c003ad80-2562-11e9-8297-1c6595f8a7ff.png)\n",
        "\n",
        "### Exercise 1\n",
        "\n",
        "Convert the following `str` into `int` type.\n",
        "\n",
        "`revenue_as_string = \"500000\"`"
      ]
    },
    {
      "cell_type": "code",
      "execution_count": 1,
      "metadata": {
        "id": "rfcAFJ5MC4T1",
        "outputId": "60de909c-a822-46e5-b4c8-b41412b9d76c",
        "colab": {
          "base_uri": "https://localhost:8080/"
        }
      },
      "outputs": [
        {
          "output_type": "execute_result",
          "data": {
            "text/plain": [
              "500000"
            ]
          },
          "metadata": {},
          "execution_count": 1
        }
      ],
      "source": [
        "revenue_as_string = \"500000\"\n",
        "\n",
        "# your code goes here\n",
        "\n",
        "revenue_as_integer = int(revenue_as_string)\n",
        "\n",
        "revenue_as_integer"
      ]
    },
    {
      "cell_type": "code",
      "execution_count": null,
      "metadata": {
        "cell_type": "solution",
        "id": "N9uhSn4OC4T2",
        "outputId": "a0cd60b4-df40-49f5-fc8b-5bee5dc906cb"
      },
      "outputs": [
        {
          "data": {
            "text/plain": [
              "500000"
            ]
          },
          "execution_count": 13,
          "metadata": {},
          "output_type": "execute_result"
        }
      ],
      "source": [
        "revenue_as_integer = int(revenue_as_string)\n",
        "\n",
        "revenue_as_integer"
      ]
    },
    {
      "cell_type": "markdown",
      "metadata": {
        "id": "ByRIqblzC4T3"
      },
      "source": [
        "![green-divider](https://user-images.githubusercontent.com/7065401/52071924-c003ad80-2562-11e9-8297-1c6595f8a7ff.png)\n",
        "\n",
        "### Exercise 2\n",
        "\n",
        "Make a function using the following formula:\n",
        "\n",
        "$$ f(x,y) = 2 x + y $$"
      ]
    },
    {
      "cell_type": "code",
      "execution_count": null,
      "metadata": {
        "id": "FEyLImvIC4T3"
      },
      "outputs": [],
      "source": [
        "# your code goes here\n",
        "def func(x,y):\n",
        "  return 2*x + y"
      ]
    },
    {
      "cell_type": "markdown",
      "metadata": {
        "cell_type": "hint",
        "id": "i4EdrIT2C4T3"
      },
      "source": [
        "The function will have two parameters $x$ and $y$."
      ]
    },
    {
      "cell_type": "code",
      "execution_count": null,
      "metadata": {
        "cell_type": "solution",
        "id": "F-6bWqG8C4T4"
      },
      "outputs": [],
      "source": [
        "def func(x, y):\n",
        "    return 2*x + y"
      ]
    },
    {
      "cell_type": "code",
      "execution_count": null,
      "metadata": {
        "id": "7wfDcMOgC4T4",
        "outputId": "1d12156d-0597-4b93-ea87-8ed3b7852965"
      },
      "outputs": [
        {
          "data": {
            "text/plain": [
              "25"
            ]
          },
          "execution_count": 24,
          "metadata": {},
          "output_type": "execute_result"
        }
      ],
      "source": [
        "func(10, 5)"
      ]
    },
    {
      "cell_type": "code",
      "execution_count": null,
      "metadata": {
        "id": "Rx8VSKJ4C4T5",
        "outputId": "7a4b1c05-1f38-4002-ad89-10fc042f0b84"
      },
      "outputs": [
        {
          "data": {
            "text/plain": [
              "4"
            ]
          },
          "execution_count": 34,
          "metadata": {},
          "output_type": "execute_result"
        }
      ],
      "source": [
        "func(-3, 10)"
      ]
    },
    {
      "cell_type": "markdown",
      "metadata": {
        "id": "dVjJP58HC4T5"
      },
      "source": [
        "![green-divider](https://user-images.githubusercontent.com/7065401/52071924-c003ad80-2562-11e9-8297-1c6595f8a7ff.png)\n",
        "\n",
        "### Exercise 3\n",
        "\n",
        "Make a function that receives a string as parameter and return the last letter on it."
      ]
    },
    {
      "cell_type": "code",
      "execution_count": 8,
      "metadata": {
        "id": "C_mbPW8IC4T5"
      },
      "outputs": [],
      "source": [
        "# your code goes here\n",
        "def last_letter1(s):\n",
        "  return s[-1]\n"
      ]
    },
    {
      "cell_type": "code",
      "execution_count": 4,
      "metadata": {
        "cell_type": "solution",
        "id": "Tq-ond-SC4T6"
      },
      "outputs": [],
      "source": [
        "def last_letter(string):\n",
        "    return string[-1]"
      ]
    },
    {
      "cell_type": "code",
      "execution_count": 6,
      "metadata": {
        "id": "LqKAgR3iC4T6",
        "outputId": "25705704-8f4e-4cf3-c1f1-bab626b2af5d",
        "colab": {
          "base_uri": "https://localhost:8080/",
          "height": 36
        }
      },
      "outputs": [
        {
          "output_type": "execute_result",
          "data": {
            "text/plain": [
              "'n'"
            ],
            "application/vnd.google.colaboratory.intrinsic+json": {
              "type": "string"
            }
          },
          "metadata": {},
          "execution_count": 6
        }
      ],
      "source": [
        "last_letter('Python')"
      ]
    },
    {
      "cell_type": "code",
      "execution_count": 9,
      "metadata": {
        "id": "bFAWH16uC4T6",
        "outputId": "3f762e77-f0e8-463c-ead3-6e536338d07f",
        "colab": {
          "base_uri": "https://localhost:8080/",
          "height": 36
        }
      },
      "outputs": [
        {
          "output_type": "execute_result",
          "data": {
            "text/plain": [
              "'R'"
            ],
            "application/vnd.google.colaboratory.intrinsic+json": {
              "type": "string"
            }
          },
          "metadata": {},
          "execution_count": 9
        }
      ],
      "source": [
        "last_letter1('RMOTR')"
      ]
    },
    {
      "cell_type": "markdown",
      "metadata": {
        "id": "hNE-ynUUC4T6"
      },
      "source": [
        "![green-divider](https://user-images.githubusercontent.com/7065401/52071924-c003ad80-2562-11e9-8297-1c6595f8a7ff.png)\n",
        "\n",
        "### Exercise 4\n",
        "\n",
        "Make a function that receives a list as parameter and return how many elements it has; if it doesn't have any element return an error."
      ]
    },
    {
      "cell_type": "code",
      "execution_count": 10,
      "metadata": {
        "id": "9wkTe_yfC4T6"
      },
      "outputs": [],
      "source": [
        "# your code goes here\n",
        "def list_size1(list1):\n",
        "  n = len(list1)\n",
        "  if n == 0:\n",
        "    return 'Error, no elements'\n",
        "  else:\n",
        "    return 'List has {} elements'.format(n)"
      ]
    },
    {
      "cell_type": "code",
      "execution_count": null,
      "metadata": {
        "cell_type": "solution",
        "id": "_sQ_YQynC4T7"
      },
      "outputs": [],
      "source": [
        "def list_size(my_list):\n",
        "    size = len(my_list)\n",
        "\n",
        "    if (size > 0):\n",
        "        return 'List has {} elements'.format(size)\n",
        "    else:\n",
        "        return 'Error, no elements'"
      ]
    },
    {
      "cell_type": "code",
      "execution_count": 11,
      "metadata": {
        "id": "sGbIJJnXC4T7",
        "outputId": "eee359e6-fd97-44dc-c88f-ab1f4699d63b",
        "colab": {
          "base_uri": "https://localhost:8080/",
          "height": 36
        }
      },
      "outputs": [
        {
          "output_type": "execute_result",
          "data": {
            "text/plain": [
              "'List has 3 elements'"
            ],
            "application/vnd.google.colaboratory.intrinsic+json": {
              "type": "string"
            }
          },
          "metadata": {},
          "execution_count": 11
        }
      ],
      "source": [
        "list_size1([1, 2, 3])"
      ]
    },
    {
      "cell_type": "code",
      "execution_count": null,
      "metadata": {
        "id": "YCCmmeTXC4T7",
        "outputId": "7cc8e97c-aff9-400d-d768-cfe797ad1495"
      },
      "outputs": [
        {
          "data": {
            "text/plain": [
              "'Error, no elements'"
            ]
          },
          "execution_count": 31,
          "metadata": {},
          "output_type": "execute_result"
        }
      ],
      "source": [
        "list_size([])"
      ]
    },
    {
      "cell_type": "markdown",
      "metadata": {
        "id": "Tl94nDiBC4T7"
      },
      "source": [
        "![purple-divider](https://user-images.githubusercontent.com/7065401/52071927-c1cd7100-2562-11e9-908a-dde91ba14e59.png)"
      ]
    }
  ],
  "metadata": {
    "kernelspec": {
      "display_name": "Python 3",
      "language": "python",
      "name": "python3"
    },
    "language_info": {
      "codemirror_mode": {
        "name": "ipython",
        "version": 3
      },
      "file_extension": ".py",
      "mimetype": "text/x-python",
      "name": "python",
      "nbconvert_exporter": "python",
      "pygments_lexer": "ipython3",
      "version": "3.6.8"
    },
    "colab": {
      "provenance": [],
      "include_colab_link": true
    }
  },
  "nbformat": 4,
  "nbformat_minor": 0
}